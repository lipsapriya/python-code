{
  "nbformat": 4,
  "nbformat_minor": 0,
  "metadata": {
    "colab": {
      "name": "python4.ipynb",
      "provenance": [],
      "authorship_tag": "ABX9TyNyTaufNMSghhRt9giVVdEs",
      "include_colab_link": true
    },
    "kernelspec": {
      "name": "python3",
      "display_name": "Python 3"
    },
    "language_info": {
      "name": "python"
    }
  },
  "cells": [
    {
      "cell_type": "markdown",
      "metadata": {
        "id": "view-in-github",
        "colab_type": "text"
      },
      "source": [
        "<a href=\"https://colab.research.google.com/github/lipsapriya/python-code/blob/main/python4.ipynb\" target=\"_parent\"><img src=\"https://colab.research.google.com/assets/colab-badge.svg\" alt=\"Open In Colab\"/></a>"
      ]
    },
    {
      "cell_type": "markdown",
      "metadata": {
        "id": "4bbyRZdDVLKq"
      },
      "source": [
        "#python program to demonstrate inheritance"
      ]
    },
    {
      "cell_type": "code",
      "metadata": {
        "colab": {
          "base_uri": "https://localhost:8080/"
        },
        "id": "DBvnTYFdVS9e",
        "outputId": "82c454e4-ef31-40ea-89f7-b6d42132725a"
      },
      "source": [
        "\n",
        "\n",
        "# Base or Super class. Note object in bracket.\n",
        "# (Generally, object is made ancestor of all classes)\n",
        "# In Python 3.x \"class Person\" is\n",
        "# equivalent to \"class Person(object)\"\n",
        "class Person(object):\n",
        "\t\n",
        "\t# Constructor\n",
        "\tdef __init__(self, name):\n",
        "\t\tself.name = name\n",
        "\n",
        "\t# To get name\n",
        "\tdef getName(self):\n",
        "\t\treturn self.name\n",
        "\n",
        "\t# To check if this person is an employee\n",
        "\tdef isEmployee(self):\n",
        "\t\treturn False\n",
        "\n",
        "\n",
        "# Inherited or Subclass (Note Person in bracket)\n",
        "class Employee(Person):\n",
        "\n",
        "\t# Here we return true\n",
        "\tdef isEmployee(self):\n",
        "\t\treturn True\n",
        "\n",
        "# Driver code\n",
        "emp = Person(\"rahul\") # An Object of Person\n",
        "print(emp.getName(), emp.isEmployee())\n",
        "\n",
        "emp = Employee(\"raj\") # An Object of Employee\n",
        "print(emp.getName(), emp.isEmployee())\n"
      ],
      "execution_count": 1,
      "outputs": [
        {
          "output_type": "stream",
          "text": [
            "rahul False\n",
            "raj True\n"
          ],
          "name": "stdout"
        }
      ]
    },
    {
      "cell_type": "markdown",
      "metadata": {
        "id": "E5WF8vx1VlhM"
      },
      "source": [
        "#python code to demonstrate how parent constructors are called"
      ]
    },
    {
      "cell_type": "code",
      "metadata": {
        "colab": {
          "base_uri": "https://localhost:8080/"
        },
        "id": "-zM95j84Vtvy",
        "outputId": "ca19df8f-cd84-4145-81dc-bf33ea1c10b2"
      },
      "source": [
        "\n",
        "\n",
        "# parent class\n",
        "class Person( object ):\t\n",
        "\n",
        "\t\t# __init__ is known as the constructor\t\t\n",
        "\t\tdef __init__(self, name, idnumber):\n",
        "\t\t\t\tself.name = name\n",
        "\t\t\t\tself.idnumber = idnumber\n",
        "\t\tdef display(self):\n",
        "\t\t\t\tprint(self.name)\n",
        "\t\t\t\tprint(self.idnumber)\n",
        "\n",
        "# child class\n",
        "class Employee( Person ):\t\t\n",
        "\t\tdef __init__(self, name, idnumber, salary, post):\n",
        "\t\t\t\tself.salary = salary\n",
        "\t\t\t\tself.post = post\n",
        "\n",
        "\t\t\t\t# invoking the __init__ of the parent class\n",
        "\t\t\t\tPerson.__init__(self, name, idnumber)\n",
        "\n",
        "\t\t\t\t\n",
        "# creation of an object variable or an instance\n",
        "a = Employee('lily', 886012, 200000, \"Intern\")\t\n",
        "\n",
        "# calling a function of the class Person using its instance\n",
        "a.display()\n"
      ],
      "execution_count": 2,
      "outputs": [
        {
          "output_type": "stream",
          "text": [
            "lily\n",
            "886012\n"
          ],
          "name": "stdout"
        }
      ]
    },
    {
      "cell_type": "markdown",
      "metadata": {
        "id": "GnhgEuqEY6G3"
      },
      "source": [
        "#python program to demonstrate single inheritance"
      ]
    },
    {
      "cell_type": "code",
      "metadata": {
        "colab": {
          "base_uri": "https://localhost:8080/"
        },
        "id": "1SUmq0vvY_Tc",
        "outputId": "540ed165-90b1-4e04-fbf4-de9ce16c0a34"
      },
      "source": [
        "# Base class\n",
        "class Parent:\n",
        "     def func1(self):\n",
        "          print(\"This function is in parent class.\")\n",
        " \n",
        "# Derived class\n",
        "class Child(Parent):\n",
        "     def func2(self):\n",
        "          print(\"This function is in child class.\")\n",
        " \n",
        "# Driver's code\n",
        "object = Child()\n",
        "object.func1()\n",
        "object.func2()"
      ],
      "execution_count": 3,
      "outputs": [
        {
          "output_type": "stream",
          "text": [
            "This function is in parent class.\n",
            "This function is in child class.\n"
          ],
          "name": "stdout"
        }
      ]
    },
    {
      "cell_type": "markdown",
      "metadata": {
        "id": "wbS_rvZVZD32"
      },
      "source": [
        "#python program to demonstrate multiple inheritance"
      ]
    },
    {
      "cell_type": "code",
      "metadata": {
        "colab": {
          "base_uri": "https://localhost:8080/"
        },
        "id": "HgMdI2xiZK8t",
        "outputId": "9edce1c8-e495-4df5-99c6-4d48e8ed1b03"
      },
      "source": [
        "\n",
        "\n",
        "\n",
        "# Base class1\n",
        "class Mother:\n",
        "\tmothername = \"\"\n",
        "\tdef mother(self):\n",
        "\t\tprint(self.mothername)\n",
        "\n",
        "# Base class2\n",
        "class Father:\n",
        "\tfathername = \"\"\n",
        "\tdef father(self):\n",
        "\t\tprint(self.fathername)\n",
        "\n",
        "# Derived class\n",
        "class Son(Mother, Father):\n",
        "\tdef parents(self):\n",
        "\t\tprint(\"Father :\", self.fathername)\n",
        "\t\tprint(\"Mother :\", self.mothername)\n",
        "\n",
        "# Driver's code\n",
        "s1 = Son()\n",
        "s1.fathername = \"rishav\"\n",
        "s1.mothername = \"melanie\"\n",
        "s1.parents()\n"
      ],
      "execution_count": 4,
      "outputs": [
        {
          "output_type": "stream",
          "text": [
            "Father : rishav\n",
            "Mother : melanie\n"
          ],
          "name": "stdout"
        }
      ]
    },
    {
      "cell_type": "markdown",
      "metadata": {
        "id": "Onb3V_r0Zdcz"
      },
      "source": [
        "#python program to demonstrate hybrid inheritance"
      ]
    },
    {
      "cell_type": "code",
      "metadata": {
        "colab": {
          "base_uri": "https://localhost:8080/"
        },
        "id": "PbLLzI3iZitn",
        "outputId": "dc6698bf-fa5a-430a-b922-b90ffbdcba6d"
      },
      "source": [
        "\n",
        "\n",
        "\n",
        "class School:\n",
        "\tdef func1(self):\n",
        "\t\tprint(\"This function is in school.\")\n",
        "\n",
        "class Student1(School):\n",
        "\tdef func2(self):\n",
        "\t\tprint(\"This function is in student 1. \")\n",
        "\n",
        "class Student2(School):\n",
        "\tdef func3(self):\n",
        "\t\tprint(\"This function is in student 2.\")\n",
        "\n",
        "class Student3(Student1, School):\n",
        "\tdef func4(self):\n",
        "\t\tprint(\"This function is in student 3.\")\n",
        "\n",
        "# Driver's code\n",
        "object = Student3()\n",
        "object.func1()\n",
        "object.func2()\n"
      ],
      "execution_count": 5,
      "outputs": [
        {
          "output_type": "stream",
          "text": [
            "This function is in school.\n",
            "This function is in student 1. \n"
          ],
          "name": "stdout"
        }
      ]
    }
  ]
}