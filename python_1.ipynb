{
  "nbformat": 4,
  "nbformat_minor": 0,
  "metadata": {
    "colab": {
      "name": "python 1.ipynb",
      "provenance": [],
      "authorship_tag": "ABX9TyOWga2sQZynG5kzbZydDbS4",
      "include_colab_link": true
    },
    "kernelspec": {
      "name": "python3",
      "display_name": "Python 3"
    },
    "language_info": {
      "name": "python"
    }
  },
  "cells": [
    {
      "cell_type": "markdown",
      "metadata": {
        "id": "view-in-github",
        "colab_type": "text"
      },
      "source": [
        "<a href=\"https://colab.research.google.com/github/lipsapriya/python-code/blob/main/python_1.ipynb\" target=\"_parent\"><img src=\"https://colab.research.google.com/assets/colab-badge.svg\" alt=\"Open In Colab\"/></a>"
      ]
    },
    {
      "cell_type": "markdown",
      "metadata": {
        "id": "SLKTLD7pRlnb"
      },
      "source": [
        "#python calender example"
      ]
    },
    {
      "cell_type": "code",
      "metadata": {
        "colab": {
          "base_uri": "https://localhost:8080/"
        },
        "id": "62pdKq77Rpoc",
        "outputId": "96c9f6c1-d7dd-488c-babd-751a1044c555"
      },
      "source": [
        "# Python Calendar Example\n",
        "\n",
        "# import calendar module\n",
        "import calendar\n",
        "\n",
        "# ask of month and year\n",
        "year = int(input(\"Please Enter the year Number: \"))\n",
        "month = int(input(\"Please Enter the month Number: \"))\n",
        "\n",
        "# Displaying the Python calendar\n",
        "print(calendar.month(year, month))"
      ],
      "execution_count": null,
      "outputs": [
        {
          "output_type": "stream",
          "text": [
            "Please Enter the year Number: 2017\n",
            "Please Enter the month Number: 3\n",
            "     March 2017\n",
            "Mo Tu We Th Fr Sa Su\n",
            "       1  2  3  4  5\n",
            " 6  7  8  9 10 11 12\n",
            "13 14 15 16 17 18 19\n",
            "20 21 22 23 24 25 26\n",
            "27 28 29 30 31\n",
            "\n"
          ],
          "name": "stdout"
        }
      ]
    },
    {
      "cell_type": "markdown",
      "metadata": {
        "id": "5H3tvpyxdwuK"
      },
      "source": [
        "#for loop example"
      ]
    },
    {
      "cell_type": "code",
      "metadata": {
        "colab": {
          "base_uri": "https://localhost:8080/"
        },
        "id": "YWFAmBwbdzjw",
        "outputId": "0555632f-8f33-47dd-dc6a-d9a9e7970928"
      },
      "source": [
        "# Program to print squares of all numbers present in a list\n",
        "\n",
        "# List of integer numbers\n",
        "numbers = [1, 2, 4, 6, 11, 20]\n",
        "\n",
        "# variable to store the square of each num temporary\n",
        "sq = 0\n",
        "\n",
        "# iterating over the given list\n",
        "for val in numbers:\n",
        "    # calculating square of each number\n",
        "    sq = val * val\n",
        "    # displaying the squares\n",
        "    print(sq)"
      ],
      "execution_count": null,
      "outputs": [
        {
          "output_type": "stream",
          "text": [
            "1\n",
            "4\n",
            "16\n",
            "36\n",
            "121\n",
            "400\n"
          ],
          "name": "stdout"
        }
      ]
    },
    {
      "cell_type": "markdown",
      "metadata": {
        "id": "yXjO3UUYXUFZ"
      },
      "source": [
        "#nested for loop python\n"
      ]
    },
    {
      "cell_type": "code",
      "metadata": {
        "colab": {
          "base_uri": "https://localhost:8080/"
        },
        "id": "WjzykIyOXcgr",
        "outputId": "7763b350-5c8e-4ed0-e9aa-4118267e37b4"
      },
      "source": [
        "for num1 in range(3):\n",
        "\tfor num2 in range(10, 14):\n",
        "\t\tprint(num1, \",\", num2)"
      ],
      "execution_count": 1,
      "outputs": [
        {
          "output_type": "stream",
          "text": [
            "0 , 10\n",
            "0 , 11\n",
            "0 , 12\n",
            "0 , 13\n",
            "1 , 10\n",
            "1 , 11\n",
            "1 , 12\n",
            "1 , 13\n",
            "2 , 10\n",
            "2 , 11\n",
            "2 , 12\n",
            "2 , 13\n"
          ],
          "name": "stdout"
        }
      ]
    },
    {
      "cell_type": "markdown",
      "metadata": {
        "id": "Ti6KwBojX8JY"
      },
      "source": [
        "#break statement"
      ]
    },
    {
      "cell_type": "code",
      "metadata": {
        "colab": {
          "base_uri": "https://localhost:8080/"
        },
        "id": "saUgvo-VYRTT",
        "outputId": "a0e46fac-3869-484e-c183-ffa5b9eb9325"
      },
      "source": [
        "# program to display all the elements before number 88\n",
        "for num in [11, 9, 88, 10, 90, 3, 19]:\n",
        "   print(num)\n",
        "   if(num==88):\n",
        "\t   print(\"The number 88 is found\")\n",
        "\t   print(\"Terminating the loop\")\n",
        "\t   break"
      ],
      "execution_count": 2,
      "outputs": [
        {
          "output_type": "stream",
          "text": [
            "11\n",
            "9\n",
            "88\n",
            "The number 88 is found\n",
            "Terminating the loop\n"
          ],
          "name": "stdout"
        }
      ]
    },
    {
      "cell_type": "markdown",
      "metadata": {
        "id": "8bw8SaJkYftC"
      },
      "source": [
        "#while loop"
      ]
    },
    {
      "cell_type": "code",
      "metadata": {
        "colab": {
          "base_uri": "https://localhost:8080/"
        },
        "id": "LAcu9_FVY5FV",
        "outputId": "ab75bc02-f5e5-410a-9094-a4b9af388547"
      },
      "source": [
        "num = 1\n",
        "# loop will repeat itself as long as\n",
        "# num < 10 remains true\n",
        "while num < 10:\n",
        "    print(num)\n",
        "    #incrementing the value of num\n",
        "    num = num + 3"
      ],
      "execution_count": 3,
      "outputs": [
        {
          "output_type": "stream",
          "text": [
            "1\n",
            "4\n",
            "7\n"
          ],
          "name": "stdout"
        }
      ]
    },
    {
      "cell_type": "markdown",
      "metadata": {
        "id": "XnPzLtsTaQc4"
      },
      "source": [
        "#creating a variable and assigning a value"
      ]
    },
    {
      "cell_type": "code",
      "metadata": {
        "colab": {
          "base_uri": "https://localhost:8080/"
        },
        "id": "7SfvPAvFbGcm",
        "outputId": "fb0a2170-a073-43ab-91ba-f4323fa8d87d"
      },
      "source": [
        "\n",
        "name = \"John\"  # string assignment\n",
        "age = 25  # integer assignment\n",
        "salary = 25800.60  # float assignment\n",
        "\n",
        "print(name)  # John\n",
        "print(age)  # 25\n",
        "print(salary)  # 25800.6"
      ],
      "execution_count": 6,
      "outputs": [
        {
          "output_type": "stream",
          "text": [
            "John\n",
            "25\n",
            "25800.6\n"
          ],
          "name": "stdout"
        }
      ]
    },
    {
      "cell_type": "markdown",
      "metadata": {
        "id": "nqPgo91fcoAi"
      },
      "source": [
        "#changing the value of a variable"
      ]
    },
    {
      "cell_type": "code",
      "metadata": {
        "colab": {
          "base_uri": "https://localhost:8080/"
        },
        "id": "a0-PmN6NcsCN",
        "outputId": "7c801d13-3e39-4a98-85b8-9c4bfae5c235"
      },
      "source": [
        "var = 10\n",
        "print(var)  # 10\n",
        "# print its type\n",
        "print(type(var))  # <class 'int'>\n",
        "\n",
        "# assign different integer value to var\n",
        "var = 55\n",
        "print(var)  # 55\n",
        "\n",
        "# change var to string\n",
        "var = \"Now I'm a string\"\n",
        "print(var)  # Now I'm a string\n",
        "# print its type\n",
        "print(type(var))  # <class 'str'>\n",
        "\n",
        "# change var to float\n",
        "var = 35.69\n",
        "print(var)  # 35.69\n",
        "# print its type\n",
        "print(type(var))  # <class 'float'>"
      ],
      "execution_count": 7,
      "outputs": [
        {
          "output_type": "stream",
          "text": [
            "10\n",
            "<class 'int'>\n",
            "55\n",
            "Now I'm a string\n",
            "<class 'str'>\n",
            "35.69\n",
            "<class 'float'>\n"
          ],
          "name": "stdout"
        }
      ]
    },
    {
      "cell_type": "markdown",
      "metadata": {
        "id": "jE5UFrQ2czmK"
      },
      "source": [
        "#integer variable"
      ]
    },
    {
      "cell_type": "code",
      "metadata": {
        "colab": {
          "base_uri": "https://localhost:8080/"
        },
        "id": "Rwy6Am35dAgx",
        "outputId": "d5b8ff02-494a-4d23-f440-4ed7aa310242"
      },
      "source": [
        "# create integer variable\n",
        "age = 28\n",
        "print(age)  # 28\n",
        "print(type(age))  # <class 'int'>"
      ],
      "execution_count": 8,
      "outputs": [
        {
          "output_type": "stream",
          "text": [
            "28\n",
            "<class 'int'>\n"
          ],
          "name": "stdout"
        }
      ]
    },
    {
      "cell_type": "markdown",
      "metadata": {
        "id": "T9q2yNuFdPY4"
      },
      "source": [
        "#float variable"
      ]
    },
    {
      "cell_type": "code",
      "metadata": {
        "colab": {
          "base_uri": "https://localhost:8080/"
        },
        "id": "7JTONrZLdTBW",
        "outputId": "ade66f37-bd86-4a04-9c1a-405099c1d9af"
      },
      "source": [
        "# create float variable\n",
        "salary = 10800.55\n",
        "print(salary)  # 10800.55\n",
        "print(type(salary))  # <class 'float'>"
      ],
      "execution_count": 9,
      "outputs": [
        {
          "output_type": "stream",
          "text": [
            "10800.55\n",
            "<class 'float'>\n"
          ],
          "name": "stdout"
        }
      ]
    },
    {
      "cell_type": "markdown",
      "metadata": {
        "id": "LHdDE_dxddzI"
      },
      "source": [
        "#complex type variable"
      ]
    },
    {
      "cell_type": "code",
      "metadata": {
        "colab": {
          "base_uri": "https://localhost:8080/"
        },
        "id": "fqXhnPumdgvD",
        "outputId": "79aad259-0732-4f3d-98ce-30e80ff9ab1c"
      },
      "source": [
        "a = 3 + 5j\n",
        "print(a)  # (3+5j)\n",
        "print(type(a))  # <class 'complex'>"
      ],
      "execution_count": 10,
      "outputs": [
        {
          "output_type": "stream",
          "text": [
            "(3+5j)\n",
            "<class 'complex'>\n"
          ],
          "name": "stdout"
        }
      ]
    }
  ]
}