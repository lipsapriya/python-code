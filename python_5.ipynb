{
  "nbformat": 4,
  "nbformat_minor": 0,
  "metadata": {
    "colab": {
      "name": "python 5.ipynb",
      "provenance": [],
      "authorship_tag": "ABX9TyOuBLE3n79BA4H1YCckOMZW",
      "include_colab_link": true
    },
    "kernelspec": {
      "name": "python3",
      "display_name": "Python 3"
    },
    "language_info": {
      "name": "python"
    }
  },
  "cells": [
    {
      "cell_type": "markdown",
      "metadata": {
        "id": "view-in-github",
        "colab_type": "text"
      },
      "source": [
        "<a href=\"https://colab.research.google.com/github/lipsapriya/python-code/blob/main/python_5.ipynb\" target=\"_parent\"><img src=\"https://colab.research.google.com/assets/colab-badge.svg\" alt=\"Open In Colab\"/></a>"
      ]
    },
    {
      "cell_type": "markdown",
      "metadata": {
        "id": "FezLh5etgCzd"
      },
      "source": [
        "#creating a set in python using curly braces"
      ]
    },
    {
      "cell_type": "code",
      "metadata": {
        "colab": {
          "base_uri": "https://localhost:8080/"
        },
        "id": "QU0jXDx9gODP",
        "outputId": "6ff2b0a1-279c-42cc-a6a9-16e6a462fa1e"
      },
      "source": [
        "    Days = {\"Monday\", \"Tuesday\", \"Wednesday\", \"Thursday\", \"Friday\", \"Saturday\", \"Sunday\"}    \n",
        "    print(Days)    \n",
        "    print(type(Days))    \n",
        "    print(\"looping through the set elements ... \")    \n",
        "    for i in Days:    \n",
        "        print(i)    "
      ],
      "execution_count": 5,
      "outputs": [
        {
          "output_type": "stream",
          "name": "stdout",
          "text": [
            "{'Saturday', 'Thursday', 'Monday', 'Sunday', 'Wednesday', 'Tuesday', 'Friday'}\n",
            "<class 'set'>\n",
            "looping through the set elements ... \n",
            "Saturday\n",
            "Thursday\n",
            "Monday\n",
            "Sunday\n",
            "Wednesday\n",
            "Tuesday\n",
            "Friday\n"
          ]
        }
      ]
    },
    {
      "cell_type": "markdown",
      "metadata": {
        "id": "JP12cUaegSpr"
      },
      "source": [
        "#creating a set using set() method"
      ]
    },
    {
      "cell_type": "code",
      "metadata": {
        "colab": {
          "base_uri": "https://localhost:8080/"
        },
        "id": "sTTenutigZwa",
        "outputId": "47b7061b-b263-4070-dbda-7352384d3150"
      },
      "source": [
        "    Days = set([\"Monday\", \"Tuesday\", \"Wednesday\", \"Thursday\", \"Friday\", \"Saturday\", \"Sunday\"])    \n",
        "    print(Days)    \n",
        "    print(type(Days))    \n",
        "    print(\"looping through the set elements ... \")    \n",
        "    for i in Days:    \n",
        "        print(i)    "
      ],
      "execution_count": 6,
      "outputs": [
        {
          "output_type": "stream",
          "name": "stdout",
          "text": [
            "{'Saturday', 'Thursday', 'Monday', 'Sunday', 'Wednesday', 'Tuesday', 'Friday'}\n",
            "<class 'set'>\n",
            "looping through the set elements ... \n",
            "Saturday\n",
            "Thursday\n",
            "Monday\n",
            "Sunday\n",
            "Wednesday\n",
            "Tuesday\n",
            "Friday\n"
          ]
        }
      ]
    },
    {
      "cell_type": "markdown",
      "metadata": {
        "id": "26DRWy0ZghuG"
      },
      "source": [
        "#python program to create a set which have immutable elements"
      ]
    },
    {
      "cell_type": "code",
      "metadata": {
        "colab": {
          "base_uri": "https://localhost:8080/",
          "height": 249
        },
        "id": "NGpdRdj6gwHS",
        "outputId": "69ca2b85-d82e-4712-d755-54b0b5f2a79e"
      },
      "source": [
        "set1 = {1,2,3, \"JavaTpoint\", 20.5, 14}  \n",
        "print(type(set1))  \n",
        "#Creating a set which have mutable element  \n",
        "set2 = {1,2,3,[\"Javatpoint\",4]}  \n",
        "print(type(set2))  "
      ],
      "execution_count": 7,
      "outputs": [
        {
          "output_type": "stream",
          "name": "stdout",
          "text": [
            "<class 'set'>\n"
          ]
        },
        {
          "output_type": "error",
          "ename": "TypeError",
          "evalue": "ignored",
          "traceback": [
            "\u001b[0;31m---------------------------------------------------------------------------\u001b[0m",
            "\u001b[0;31mTypeError\u001b[0m                                 Traceback (most recent call last)",
            "\u001b[0;32m<ipython-input-7-e0db2f2487f7>\u001b[0m in \u001b[0;36m<module>\u001b[0;34m()\u001b[0m\n\u001b[1;32m      2\u001b[0m \u001b[0mprint\u001b[0m\u001b[0;34m(\u001b[0m\u001b[0mtype\u001b[0m\u001b[0;34m(\u001b[0m\u001b[0mset1\u001b[0m\u001b[0;34m)\u001b[0m\u001b[0;34m)\u001b[0m\u001b[0;34m\u001b[0m\u001b[0;34m\u001b[0m\u001b[0m\n\u001b[1;32m      3\u001b[0m \u001b[0;31m#Creating a set which have mutable element\u001b[0m\u001b[0;34m\u001b[0m\u001b[0;34m\u001b[0m\u001b[0;34m\u001b[0m\u001b[0m\n\u001b[0;32m----> 4\u001b[0;31m \u001b[0mset2\u001b[0m \u001b[0;34m=\u001b[0m \u001b[0;34m{\u001b[0m\u001b[0;36m1\u001b[0m\u001b[0;34m,\u001b[0m\u001b[0;36m2\u001b[0m\u001b[0;34m,\u001b[0m\u001b[0;36m3\u001b[0m\u001b[0;34m,\u001b[0m\u001b[0;34m[\u001b[0m\u001b[0;34m\"Javatpoint\"\u001b[0m\u001b[0;34m,\u001b[0m\u001b[0;36m4\u001b[0m\u001b[0;34m]\u001b[0m\u001b[0;34m}\u001b[0m\u001b[0;34m\u001b[0m\u001b[0;34m\u001b[0m\u001b[0m\n\u001b[0m\u001b[1;32m      5\u001b[0m \u001b[0mprint\u001b[0m\u001b[0;34m(\u001b[0m\u001b[0mtype\u001b[0m\u001b[0;34m(\u001b[0m\u001b[0mset2\u001b[0m\u001b[0;34m)\u001b[0m\u001b[0;34m)\u001b[0m\u001b[0;34m\u001b[0m\u001b[0;34m\u001b[0m\u001b[0m\n",
            "\u001b[0;31mTypeError\u001b[0m: unhashable type: 'list'"
          ]
        }
      ]
    },
    {
      "cell_type": "markdown",
      "metadata": {
        "id": "Y5XLF5UrhVIP"
      },
      "source": [
        "#create a set in python using update() fuction"
      ]
    },
    {
      "cell_type": "code",
      "metadata": {
        "colab": {
          "base_uri": "https://localhost:8080/"
        },
        "id": "9TX2rBWWhcTr",
        "outputId": "c36bab9c-6564-43b1-86c8-33669a57908d"
      },
      "source": [
        "    Months = set([\"January\",\"February\", \"March\", \"April\", \"May\", \"June\"])    \n",
        "    print(\"\\nprinting the original set ... \")    \n",
        "    print(Months)    \n",
        "    print(\"\\nupdating the original set ... \")    \n",
        "    Months.update([\"July\",\"August\",\"September\",\"October\"]);    \n",
        "    print(\"\\nprinting the modified set ... \")     \n",
        "    print(Months);  "
      ],
      "execution_count": 10,
      "outputs": [
        {
          "output_type": "stream",
          "name": "stdout",
          "text": [
            "\n",
            "printing the original set ... \n",
            "{'June', 'March', 'January', 'May', 'February', 'April'}\n",
            "\n",
            "updating the original set ... \n",
            "\n",
            "printing the modified set ... \n",
            "{'June', 'March', 'August', 'January', 'May', 'February', 'July', 'September', 'October', 'April'}\n"
          ]
        }
      ]
    },
    {
      "cell_type": "markdown",
      "metadata": {
        "id": "xXzap7Nhhg5t"
      },
      "source": [
        "#python all() function"
      ]
    },
    {
      "cell_type": "code",
      "metadata": {
        "colab": {
          "base_uri": "https://localhost:8080/"
        },
        "id": "OiElv3fJh5UK",
        "outputId": "7d67d968-83fa-4443-b735-f106a951247e"
      },
      "source": [
        "    # all values true  \n",
        "    k = [1, 3, 4, 6]  \n",
        "    print(all(k))  \n",
        "      \n",
        "    # all values false  \n",
        "    k = [0, False]  \n",
        "    print(all(k))  \n",
        "      \n",
        "    # one false value  \n",
        "    k = [1, 3, 7, 0]  \n",
        "    print(all(k))  \n",
        "      \n",
        "    # one true value  \n",
        "    k = [0, False, 5]  \n",
        "    print(all(k))  \n",
        "      \n",
        "    # empty iterable  \n",
        "    k = []  \n",
        "    print(all(k))  "
      ],
      "execution_count": 11,
      "outputs": [
        {
          "output_type": "stream",
          "name": "stdout",
          "text": [
            "True\n",
            "False\n",
            "False\n",
            "False\n",
            "True\n"
          ]
        }
      ]
    },
    {
      "cell_type": "markdown",
      "metadata": {
        "id": "wKKBAZatiucr"
      },
      "source": [
        "#python bool()"
      ]
    },
    {
      "cell_type": "code",
      "metadata": {
        "colab": {
          "base_uri": "https://localhost:8080/"
        },
        "id": "6s4uvL4kiySw",
        "outputId": "0e034453-c3ea-40e9-e209-f69cf06ecdf7"
      },
      "source": [
        "    test1 = []  \n",
        "    print(test1,'is',bool(test1))  \n",
        "    test1 = [0]  \n",
        "    print(test1,'is',bool(test1))  \n",
        "    test1 = 0.0  \n",
        "    print(test1,'is',bool(test1))  \n",
        "    test1 = None  \n",
        "    print(test1,'is',bool(test1))  \n",
        "    test1 = True  \n",
        "    print(test1,'is',bool(test1))  \n",
        "    test1 = 'Easy string'  \n",
        "    print(test1,'is',bool(test1))  "
      ],
      "execution_count": 13,
      "outputs": [
        {
          "output_type": "stream",
          "name": "stdout",
          "text": [
            "[] is False\n",
            "[0] is True\n",
            "0.0 is False\n",
            "None is False\n",
            "True is True\n",
            "Easy string is True\n"
          ]
        }
      ]
    },
    {
      "cell_type": "markdown",
      "metadata": {
        "id": "gBrl7BSmh_af"
      },
      "source": [
        "#python bin() function"
      ]
    },
    {
      "cell_type": "code",
      "metadata": {
        "colab": {
          "base_uri": "https://localhost:8080/"
        },
        "id": "3OO7JDoPiU1R",
        "outputId": "592db38a-b12e-4fc7-b592-028b2f49eea3"
      },
      "source": [
        "    x =  10  \n",
        "    y =  bin(x)  \n",
        "    print (y)  "
      ],
      "execution_count": 12,
      "outputs": [
        {
          "output_type": "stream",
          "name": "stdout",
          "text": [
            "0b1010\n"
          ]
        }
      ]
    },
    {
      "cell_type": "markdown",
      "metadata": {
        "id": "sdBu4lMDi41C"
      },
      "source": [
        "#python float function example"
      ]
    },
    {
      "cell_type": "code",
      "metadata": {
        "colab": {
          "base_uri": "https://localhost:8080/",
          "height": 286
        },
        "id": "5YkTQXf1jTFQ",
        "outputId": "e01f2c9a-2f84-4082-a5db-686359dafa3e"
      },
      "source": [
        "    # for integers  \n",
        "    print(float(8))  \n",
        "      \n",
        "    # for floats  \n",
        "    print(float(7.19))  \n",
        "      \n",
        "    # for string floats  \n",
        "    print(float(\"-24.17\"))  \n",
        "      \n",
        "    # for string floats with whitespaces  \n",
        "    print(float(\"     -17.15\\n\"))  \n",
        "      \n",
        "    # string float error  \n",
        "    print(float(\"xyz\"))  "
      ],
      "execution_count": 14,
      "outputs": [
        {
          "output_type": "stream",
          "name": "stdout",
          "text": [
            "8.0\n",
            "7.19\n",
            "-24.17\n",
            "-17.15\n"
          ]
        },
        {
          "output_type": "error",
          "ename": "ValueError",
          "evalue": "ignored",
          "traceback": [
            "\u001b[0;31m---------------------------------------------------------------------------\u001b[0m",
            "\u001b[0;31mValueError\u001b[0m                                Traceback (most recent call last)",
            "\u001b[0;32m<ipython-input-14-960fc18ebaa2>\u001b[0m in \u001b[0;36m<module>\u001b[0;34m()\u001b[0m\n\u001b[1;32m     12\u001b[0m \u001b[0;34m\u001b[0m\u001b[0m\n\u001b[1;32m     13\u001b[0m \u001b[0;31m# string float error\u001b[0m\u001b[0;34m\u001b[0m\u001b[0;34m\u001b[0m\u001b[0;34m\u001b[0m\u001b[0m\n\u001b[0;32m---> 14\u001b[0;31m \u001b[0mprint\u001b[0m\u001b[0;34m(\u001b[0m\u001b[0mfloat\u001b[0m\u001b[0;34m(\u001b[0m\u001b[0;34m\"xyz\"\u001b[0m\u001b[0;34m)\u001b[0m\u001b[0;34m)\u001b[0m\u001b[0;34m\u001b[0m\u001b[0;34m\u001b[0m\u001b[0m\n\u001b[0m",
            "\u001b[0;31mValueError\u001b[0m: could not convert string to float: 'xyz'"
          ]
        }
      ]
    },
    {
      "cell_type": "markdown",
      "metadata": {
        "id": "Bcoxq49Ajc63"
      },
      "source": [
        "Explanation: In the above example, a number and a string value is being converted into a floating point number.\n"
      ]
    },
    {
      "cell_type": "markdown",
      "metadata": {
        "id": "gwGwltlNjeKF"
      },
      "source": [
        "#python int() function"
      ]
    },
    {
      "cell_type": "code",
      "metadata": {
        "colab": {
          "base_uri": "https://localhost:8080/"
        },
        "id": "-pDc06TLjoJs",
        "outputId": "4eb5f014-d44b-4383-cbac-fe50e1df8195"
      },
      "source": [
        "    # Python int() function example  \n",
        "    # Calling function  \n",
        "    val = int(10) # integer value  \n",
        "    val2 = int(10.52) # float value  \n",
        "    val3 = int('10') # string value  \n",
        "    # Displaying result  \n",
        "    print(\"integer values :\",val, val2, val3)  "
      ],
      "execution_count": 15,
      "outputs": [
        {
          "output_type": "stream",
          "name": "stdout",
          "text": [
            "integer values : 10 10 10\n"
          ]
        }
      ]
    },
    {
      "cell_type": "markdown",
      "metadata": {
        "id": "4bgCS9Vmjt3r"
      },
      "source": [
        "#python int() function"
      ]
    },
    {
      "cell_type": "code",
      "metadata": {
        "colab": {
          "base_uri": "https://localhost:8080/"
        },
        "id": "OyLHEi8ajwb0",
        "outputId": "3c2c2901-3f32-4f53-c35f-5e478de464ff"
      },
      "source": [
        "    # Python int() function example  \n",
        "    # Declaring variables  \n",
        "    val1 = 0b010 # binary   \n",
        "    val2 = 0xAF  # hexadecimal  \n",
        "    val3 = 0o10  # octal  \n",
        "      \n",
        "    # Calling int() function   \n",
        "    val4 = int(val1)   \n",
        "    val5 = int(val2)   \n",
        "    val6 = int(val3)   \n",
        "    # Displaying result  \n",
        "    print(\"Values after conversion:\",val4, val5, val6)  \n",
        "    print(\"and types are: \\n \", type(val4), type(val5), type(val6))  "
      ],
      "execution_count": 16,
      "outputs": [
        {
          "output_type": "stream",
          "name": "stdout",
          "text": [
            "Values after conversion: 2 175 8\n",
            "and types are: \n",
            "  <class 'int'> <class 'int'> <class 'int'>\n"
          ]
        }
      ]
    }
  ]
}